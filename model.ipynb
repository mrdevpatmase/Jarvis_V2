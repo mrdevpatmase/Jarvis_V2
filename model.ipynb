{
 "cells": [
  {
   "cell_type": "code",
   "execution_count": 277,
   "id": "7bbf8633",
   "metadata": {},
   "outputs": [],
   "source": [
    "import pandas as pd"
   ]
  },
  {
   "cell_type": "code",
   "execution_count": 278,
   "id": "2578a356",
   "metadata": {},
   "outputs": [
    {
     "name": "stdout",
     "output_type": "stream",
     "text": [
      "                        command           intent\n",
      "284              Goodbye Jarvis             exit\n",
      "129  Launch the Calculator tool  open_calculator\n",
      "131              Use Calculator  open_calculator\n",
      "291            Quit the program             exit\n",
      "256          Play Spotify album     open_spotify\n",
      "32   Find AI articles on Google    search_google\n",
      "97       Launch the Notepad app     open_notepad\n",
      "10      I want to know the time         get_time\n",
      "171           Check my WhatsApp    open_whatsapp\n",
      "210                 Open GitHub      open_github\n"
     ]
    }
   ],
   "source": [
    "df = pd.read_csv(r'C:\\Users\\devpa\\OneDrive\\Desktop\\Backup\\Jarvis_V2\\jarvis_intents.csv')\n",
    "print( df.sample(10))"
   ]
  },
  {
   "cell_type": "code",
   "execution_count": 279,
   "id": "39e41182",
   "metadata": {},
   "outputs": [
    {
     "data": {
      "text/plain": [
       "intent\n",
       "get_time           30\n",
       "search_google      30\n",
       "search_youtube     30\n",
       "open_notepad       30\n",
       "open_calculator    30\n",
       "open_whatsapp      30\n",
       "open_linkedin      30\n",
       "open_github        30\n",
       "open_spotify       30\n",
       "exit               30\n",
       "Name: count, dtype: int64"
      ]
     },
     "execution_count": 279,
     "metadata": {},
     "output_type": "execute_result"
    }
   ],
   "source": [
    "df['intent'].value_counts()"
   ]
  },
  {
   "cell_type": "code",
   "execution_count": 280,
   "id": "184c5ec1",
   "metadata": {},
   "outputs": [
    {
     "data": {
      "text/html": [
       "<div>\n",
       "<style scoped>\n",
       "    .dataframe tbody tr th:only-of-type {\n",
       "        vertical-align: middle;\n",
       "    }\n",
       "\n",
       "    .dataframe tbody tr th {\n",
       "        vertical-align: top;\n",
       "    }\n",
       "\n",
       "    .dataframe thead th {\n",
       "        text-align: right;\n",
       "    }\n",
       "</style>\n",
       "<table border=\"1\" class=\"dataframe\">\n",
       "  <thead>\n",
       "    <tr style=\"text-align: right;\">\n",
       "      <th></th>\n",
       "      <th>command</th>\n",
       "      <th>intent</th>\n",
       "    </tr>\n",
       "  </thead>\n",
       "  <tbody>\n",
       "    <tr>\n",
       "      <th>count</th>\n",
       "      <td>300</td>\n",
       "      <td>300</td>\n",
       "    </tr>\n",
       "    <tr>\n",
       "      <th>unique</th>\n",
       "      <td>300</td>\n",
       "      <td>10</td>\n",
       "    </tr>\n",
       "    <tr>\n",
       "      <th>top</th>\n",
       "      <td>Goodbye assistant</td>\n",
       "      <td>get_time</td>\n",
       "    </tr>\n",
       "    <tr>\n",
       "      <th>freq</th>\n",
       "      <td>1</td>\n",
       "      <td>30</td>\n",
       "    </tr>\n",
       "  </tbody>\n",
       "</table>\n",
       "</div>"
      ],
      "text/plain": [
       "                  command    intent\n",
       "count                 300       300\n",
       "unique                300        10\n",
       "top     Goodbye assistant  get_time\n",
       "freq                    1        30"
      ]
     },
     "execution_count": 280,
     "metadata": {},
     "output_type": "execute_result"
    }
   ],
   "source": [
    "df.describe()\n"
   ]
  },
  {
   "cell_type": "code",
   "execution_count": 281,
   "id": "53d92651",
   "metadata": {},
   "outputs": [
    {
     "name": "stdout",
     "output_type": "stream",
     "text": [
      "                             command           intent  intent_number\n",
      "142           Start basic calculator  open_calculator              4\n",
      "37              Google trending news    search_google              1\n",
      "234           Access my repositories      open_github              7\n",
      "181                  Launch LinkedIn    open_linkedin              6\n",
      "51       Google the weather forecast    search_google              1\n",
      "155                  WhatsApp please    open_whatsapp              5\n",
      "146      Open calculator application  open_calculator              4\n",
      "6        Could you give me the time?         get_time              0\n",
      "194            Show LinkedIn profile    open_linkedin              6\n",
      "58   Search Google for famous quotes    search_google              1\n"
     ]
    }
   ],
   "source": [
    "df['intent_number'] = df['intent'].map({\n",
    "    'get_time': 0,\n",
    "    'search_google': 1,\n",
    "    'search_youtube': 2,\n",
    "    'open_notepad': 3,\n",
    "    'open_calculator': 4,\n",
    "    'open_whatsapp': 5,\n",
    "    'open_linkedin': 6,\n",
    "    'open_github': 7,\n",
    "    'open_spotify': 8,\n",
    "    'exit': 9\n",
    "})\n",
    "print( df.sample(10))"
   ]
  },
  {
   "cell_type": "code",
   "execution_count": 282,
   "id": "c0de6636",
   "metadata": {},
   "outputs": [
    {
     "name": "stdout",
     "output_type": "stream",
     "text": [
      "['itself', 'therein', 'behind', '‘s', 'move', 'she', 'after', 'often', 'take', 'sometime', 'n‘t', '’ve', '‘m', 'toward', 'one', 'somewhere', 'or', 'hundred', 'your', 'front', 'even', 'whom', 'someone', 're', 'whereas', \"'d\", 'doing', 'still', \"'m\", 'against', \"'ve\", 'amount', 'without', 'yourselves', 'a', 'made', 'very', \"'s\", 'than', 'part', 'am', 'amongst', 'no', 'as', '‘ll', 'ours', 'among', 'him', 'along', 'sixty', '’ll', 'was', 'go', 'where', 'then', 'them', 'her', 'unless', 'were', 'over', 'before', 'on', 'anyway', 'but', 'us', 'hence', 'hereby', 'keep', 'be', 'must', 'alone', 'whereafter', 'make', 'indeed', 'third', 'throughout', 'been', 'get', \"'ll\", 'herself', 'became', 'nowhere', 'why', 'others', 'not', 'except', 'during', 'yourself', 'n’t', 'few', 'show', 'the', 'besides', 'this', '‘d', 'beforehand', 'fifty', '’m', 'about', 'see', 'we', 'put', 'some', 'those', 'everywhere', 'seeming', 'how', 'me', 'is', 'thereupon', 'ten', 'does', 'which', 'mine', 'has', 'every', 'did', 'seem', 'thence', 'within', 'by', 'least', 'else', 'though', 'done', 'forty', 'below', 'thereafter', 'their', 'these', 'just', 'ourselves', 'so', 'really', 'his', 'there', 'thus', 'perhaps', 'down', 'either', 'do', 'however', 'other', 'otherwise', 'full', 'my', 'empty', 'here', 'whole', 'twelve', 'around', 'both', 'beyond', 'bottom', 'from', 'may', 'you', 'five', 'namely', 'while', 'afterwards', 'each', 'three', 'upon', 'nobody', 'everyone', 'another', 'various', 'above', 'give', 'per', 'what', 'same', \"'re\", 'cannot', 'several', 'since', 'whence', 'former', 'whither', 'much', 'rather', 'regarding', 'have', 'now', 'its', 'yours', 'six', 'become', 'until', 'whether', 'herein', \"n't\", 'such', '‘ve', 'moreover', 'might', 'thru', 'under', 'although', 'noone', 'of', 'anywhere', 'using', 'own', 'say', 'i', 'well', 'used', 'nine', '‘re', 'becomes', 'hereupon', 'name', 'across', 'himself', 'meanwhile', 'and', 'hereafter', 'can', 'if', 'elsewhere', 'whatever', 'mostly', 'none', 'further', 'whereby', 'would', 'beside', 'because', 'whenever', 'are', 'two', 'they', 'will', 'via', 'latter', 'whereupon', 'twenty', 'with', 'together', 'eight', 'nothing', 'side', 'between', 'many', 'out', 'almost', 'being', 'sometimes', '’s', 'already', 'it', 'more', 'call', 'ever', 'eleven', 'back', 'hers', 'next', 'to', 'in', 'nor', '’re', 'anything', 'ca', 'up', 'never', 'everything', 'when', 'enough', 'any', 'all', 'yet', 'for', 'nevertheless', 'our', 'fifteen', 'latterly', 'four', 'should', 'serious', 'anyone', '’d', 'onto', 'he', 'towards', 'whoever', 'also', 'quite', 'formerly', 'thereby', 'could', 'most', 'once', 'always', 'somehow', 'only', 'anyhow', 'seems', 'too', 'an', 'therefore', 'neither', 'please', 'top', 'wherever', 'last', 'less', 'seemed', 'who', 'themselves', 'whose', 'off', 'due', 'into', 'wherein', 'myself', 'at', 'first', 'becoming', 'had', 'that', 'again', 'through', 'something']\n"
     ]
    }
   ],
   "source": [
    "import spacy\n",
    "from spacy.lang.en.stop_words import STOP_WORDS\n",
    "\n",
    "stopwords = list(STOP_WORDS)\n",
    "print(stopwords)\n"
   ]
  },
  {
   "cell_type": "code",
   "execution_count": 283,
   "id": "07d06aa4",
   "metadata": {},
   "outputs": [],
   "source": [
    "df['command_without_stopwords'] = df['command'].apply(lambda x: ' '.join([word for word in x.split() if word not in stopwords]))"
   ]
  },
  {
   "cell_type": "code",
   "execution_count": 284,
   "id": "ae431553",
   "metadata": {},
   "outputs": [
    {
     "data": {
      "text/html": [
       "<div>\n",
       "<style scoped>\n",
       "    .dataframe tbody tr th:only-of-type {\n",
       "        vertical-align: middle;\n",
       "    }\n",
       "\n",
       "    .dataframe tbody tr th {\n",
       "        vertical-align: top;\n",
       "    }\n",
       "\n",
       "    .dataframe thead th {\n",
       "        text-align: right;\n",
       "    }\n",
       "</style>\n",
       "<table border=\"1\" class=\"dataframe\">\n",
       "  <thead>\n",
       "    <tr style=\"text-align: right;\">\n",
       "      <th></th>\n",
       "      <th>command</th>\n",
       "      <th>intent</th>\n",
       "      <th>intent_number</th>\n",
       "      <th>command_without_stopwords</th>\n",
       "    </tr>\n",
       "  </thead>\n",
       "  <tbody>\n",
       "    <tr>\n",
       "      <th>0</th>\n",
       "      <td>What time is it?</td>\n",
       "      <td>get_time</td>\n",
       "      <td>0</td>\n",
       "      <td>What time it?</td>\n",
       "    </tr>\n",
       "    <tr>\n",
       "      <th>1</th>\n",
       "      <td>Can you tell me the time?</td>\n",
       "      <td>get_time</td>\n",
       "      <td>0</td>\n",
       "      <td>Can tell time?</td>\n",
       "    </tr>\n",
       "    <tr>\n",
       "      <th>2</th>\n",
       "      <td>Current time please</td>\n",
       "      <td>get_time</td>\n",
       "      <td>0</td>\n",
       "      <td>Current time</td>\n",
       "    </tr>\n",
       "    <tr>\n",
       "      <th>3</th>\n",
       "      <td>Tell me the time</td>\n",
       "      <td>get_time</td>\n",
       "      <td>0</td>\n",
       "      <td>Tell time</td>\n",
       "    </tr>\n",
       "    <tr>\n",
       "      <th>4</th>\n",
       "      <td>What’s the current hour?</td>\n",
       "      <td>get_time</td>\n",
       "      <td>0</td>\n",
       "      <td>What’s current hour?</td>\n",
       "    </tr>\n",
       "    <tr>\n",
       "      <th>5</th>\n",
       "      <td>Time now</td>\n",
       "      <td>get_time</td>\n",
       "      <td>0</td>\n",
       "      <td>Time</td>\n",
       "    </tr>\n",
       "    <tr>\n",
       "      <th>6</th>\n",
       "      <td>Could you give me the time?</td>\n",
       "      <td>get_time</td>\n",
       "      <td>0</td>\n",
       "      <td>Could time?</td>\n",
       "    </tr>\n",
       "    <tr>\n",
       "      <th>7</th>\n",
       "      <td>Do you know the time?</td>\n",
       "      <td>get_time</td>\n",
       "      <td>0</td>\n",
       "      <td>Do know time?</td>\n",
       "    </tr>\n",
       "    <tr>\n",
       "      <th>8</th>\n",
       "      <td>Time check</td>\n",
       "      <td>get_time</td>\n",
       "      <td>0</td>\n",
       "      <td>Time check</td>\n",
       "    </tr>\n",
       "    <tr>\n",
       "      <th>9</th>\n",
       "      <td>Show me the current time</td>\n",
       "      <td>get_time</td>\n",
       "      <td>0</td>\n",
       "      <td>Show current time</td>\n",
       "    </tr>\n",
       "  </tbody>\n",
       "</table>\n",
       "</div>"
      ],
      "text/plain": [
       "                       command    intent  intent_number  \\\n",
       "0             What time is it?  get_time              0   \n",
       "1    Can you tell me the time?  get_time              0   \n",
       "2          Current time please  get_time              0   \n",
       "3             Tell me the time  get_time              0   \n",
       "4     What’s the current hour?  get_time              0   \n",
       "5                     Time now  get_time              0   \n",
       "6  Could you give me the time?  get_time              0   \n",
       "7        Do you know the time?  get_time              0   \n",
       "8                   Time check  get_time              0   \n",
       "9     Show me the current time  get_time              0   \n",
       "\n",
       "  command_without_stopwords  \n",
       "0             What time it?  \n",
       "1            Can tell time?  \n",
       "2              Current time  \n",
       "3                 Tell time  \n",
       "4      What’s current hour?  \n",
       "5                      Time  \n",
       "6               Could time?  \n",
       "7             Do know time?  \n",
       "8                Time check  \n",
       "9         Show current time  "
      ]
     },
     "execution_count": 284,
     "metadata": {},
     "output_type": "execute_result"
    }
   ],
   "source": [
    "df.head(10)"
   ]
  },
  {
   "cell_type": "code",
   "execution_count": 285,
   "id": "0573b496",
   "metadata": {},
   "outputs": [],
   "source": [
    "from spacy.lang.en.stop_words import STOP_WORDS\n",
    "stopwords = list(STOP_WORDS)\n",
    "df['command_without_stopwords'] = df['command'].apply(\n",
    "    lambda x: ' '.join([word for word in x.split() if word.lower() not in stopwords])\n",
    ")\n",
    "\n",
    "# 4️⃣ Convert to embeddings\n",
    "nlp = spacy.load('en_core_web_md')\n",
    "df['command_vector'] = df['command_without_stopwords'].apply(lambda x: nlp(x).vector)"
   ]
  },
  {
   "cell_type": "code",
   "execution_count": null,
   "id": "b0d70f40",
   "metadata": {},
   "outputs": [],
   "source": []
  },
  {
   "cell_type": "code",
   "execution_count": 286,
   "id": "f70d6710",
   "metadata": {},
   "outputs": [
    {
     "data": {
      "text/html": [
       "<div>\n",
       "<style scoped>\n",
       "    .dataframe tbody tr th:only-of-type {\n",
       "        vertical-align: middle;\n",
       "    }\n",
       "\n",
       "    .dataframe tbody tr th {\n",
       "        vertical-align: top;\n",
       "    }\n",
       "\n",
       "    .dataframe thead th {\n",
       "        text-align: right;\n",
       "    }\n",
       "</style>\n",
       "<table border=\"1\" class=\"dataframe\">\n",
       "  <thead>\n",
       "    <tr style=\"text-align: right;\">\n",
       "      <th></th>\n",
       "      <th>command</th>\n",
       "      <th>intent</th>\n",
       "      <th>intent_number</th>\n",
       "      <th>command_without_stopwords</th>\n",
       "      <th>command_vector</th>\n",
       "    </tr>\n",
       "  </thead>\n",
       "  <tbody>\n",
       "    <tr>\n",
       "      <th>27</th>\n",
       "      <td>How late is it now?</td>\n",
       "      <td>get_time</td>\n",
       "      <td>0</td>\n",
       "      <td>late now?</td>\n",
       "      <td>[-0.73145336, 0.28222433, -0.3423233, -0.27355...</td>\n",
       "    </tr>\n",
       "    <tr>\n",
       "      <th>37</th>\n",
       "      <td>Google trending news</td>\n",
       "      <td>search_google</td>\n",
       "      <td>1</td>\n",
       "      <td>Google trending news</td>\n",
       "      <td>[-0.67943335, 0.51435333, -0.08656, 0.42026666...</td>\n",
       "    </tr>\n",
       "    <tr>\n",
       "      <th>144</th>\n",
       "      <td>Bring up my calculator</td>\n",
       "      <td>open_calculator</td>\n",
       "      <td>4</td>\n",
       "      <td>Bring calculator</td>\n",
       "      <td>[-0.67722, 0.347355, -0.1929, 0.1337065, -0.46...</td>\n",
       "    </tr>\n",
       "    <tr>\n",
       "      <th>186</th>\n",
       "      <td>Can you open LinkedIn?</td>\n",
       "      <td>open_linkedin</td>\n",
       "      <td>6</td>\n",
       "      <td>open LinkedIn?</td>\n",
       "      <td>[-0.79468995, 0.41834998, -0.188751, -0.072333...</td>\n",
       "    </tr>\n",
       "    <tr>\n",
       "      <th>142</th>\n",
       "      <td>Start basic calculator</td>\n",
       "      <td>open_calculator</td>\n",
       "      <td>4</td>\n",
       "      <td>Start basic calculator</td>\n",
       "      <td>[-0.67868334, 0.30931333, -0.35042667, 0.10083...</td>\n",
       "    </tr>\n",
       "    <tr>\n",
       "      <th>236</th>\n",
       "      <td>Check GitHub issues</td>\n",
       "      <td>open_github</td>\n",
       "      <td>7</td>\n",
       "      <td>Check GitHub issues</td>\n",
       "      <td>[-0.7592433, 0.142265, -0.37178, -0.05333666, ...</td>\n",
       "    </tr>\n",
       "    <tr>\n",
       "      <th>4</th>\n",
       "      <td>What’s the current hour?</td>\n",
       "      <td>get_time</td>\n",
       "      <td>0</td>\n",
       "      <td>What’s current hour?</td>\n",
       "      <td>[-0.6863, 0.38498798, -0.025275802, -0.1122726...</td>\n",
       "    </tr>\n",
       "    <tr>\n",
       "      <th>6</th>\n",
       "      <td>Could you give me the time?</td>\n",
       "      <td>get_time</td>\n",
       "      <td>0</td>\n",
       "      <td>time?</td>\n",
       "      <td>[-0.73351, 0.41392, -0.4425, -0.29127, -0.0961...</td>\n",
       "    </tr>\n",
       "    <tr>\n",
       "      <th>208</th>\n",
       "      <td>Check LinkedIn right away</td>\n",
       "      <td>open_linkedin</td>\n",
       "      <td>6</td>\n",
       "      <td>Check LinkedIn right away</td>\n",
       "      <td>[-0.91791254, 0.44571447, -0.35649002, -0.1839...</td>\n",
       "    </tr>\n",
       "    <tr>\n",
       "      <th>183</th>\n",
       "      <td>I want to check LinkedIn</td>\n",
       "      <td>open_linkedin</td>\n",
       "      <td>6</td>\n",
       "      <td>want check LinkedIn</td>\n",
       "      <td>[-0.87218, 0.38366935, -0.31555334, -0.2306066...</td>\n",
       "    </tr>\n",
       "  </tbody>\n",
       "</table>\n",
       "</div>"
      ],
      "text/plain": [
       "                         command           intent  intent_number  \\\n",
       "27           How late is it now?         get_time              0   \n",
       "37          Google trending news    search_google              1   \n",
       "144       Bring up my calculator  open_calculator              4   \n",
       "186       Can you open LinkedIn?    open_linkedin              6   \n",
       "142       Start basic calculator  open_calculator              4   \n",
       "236          Check GitHub issues      open_github              7   \n",
       "4       What’s the current hour?         get_time              0   \n",
       "6    Could you give me the time?         get_time              0   \n",
       "208    Check LinkedIn right away    open_linkedin              6   \n",
       "183     I want to check LinkedIn    open_linkedin              6   \n",
       "\n",
       "     command_without_stopwords  \\\n",
       "27                   late now?   \n",
       "37        Google trending news   \n",
       "144           Bring calculator   \n",
       "186             open LinkedIn?   \n",
       "142     Start basic calculator   \n",
       "236        Check GitHub issues   \n",
       "4         What’s current hour?   \n",
       "6                        time?   \n",
       "208  Check LinkedIn right away   \n",
       "183        want check LinkedIn   \n",
       "\n",
       "                                        command_vector  \n",
       "27   [-0.73145336, 0.28222433, -0.3423233, -0.27355...  \n",
       "37   [-0.67943335, 0.51435333, -0.08656, 0.42026666...  \n",
       "144  [-0.67722, 0.347355, -0.1929, 0.1337065, -0.46...  \n",
       "186  [-0.79468995, 0.41834998, -0.188751, -0.072333...  \n",
       "142  [-0.67868334, 0.30931333, -0.35042667, 0.10083...  \n",
       "236  [-0.7592433, 0.142265, -0.37178, -0.05333666, ...  \n",
       "4    [-0.6863, 0.38498798, -0.025275802, -0.1122726...  \n",
       "6    [-0.73351, 0.41392, -0.4425, -0.29127, -0.0961...  \n",
       "208  [-0.91791254, 0.44571447, -0.35649002, -0.1839...  \n",
       "183  [-0.87218, 0.38366935, -0.31555334, -0.2306066...  "
      ]
     },
     "execution_count": 286,
     "metadata": {},
     "output_type": "execute_result"
    }
   ],
   "source": [
    "df.sample(10)\n"
   ]
  },
  {
   "cell_type": "code",
   "execution_count": null,
   "id": "db2bc779",
   "metadata": {},
   "outputs": [],
   "source": []
  },
  {
   "cell_type": "code",
   "execution_count": 287,
   "id": "4f4e285c",
   "metadata": {},
   "outputs": [],
   "source": [
    "from sklearn.model_selection import train_test_split\n",
    "\n",
    "X_train, X_test, y_train, y_test = train_test_split(\n",
    "    df.command_vector.values,\n",
    "    df.intent_number,\n",
    "    test_size=0.2,\n",
    "    random_state=42\n",
    ")"
   ]
  },
  {
   "cell_type": "code",
   "execution_count": 288,
   "id": "bc7289fa",
   "metadata": {},
   "outputs": [
    {
     "data": {
      "text/plain": [
       "(60,)"
      ]
     },
     "execution_count": 288,
     "metadata": {},
     "output_type": "execute_result"
    }
   ],
   "source": [
    "X_test.shape"
   ]
  },
  {
   "cell_type": "code",
   "execution_count": 289,
   "id": "39020c0b",
   "metadata": {},
   "outputs": [],
   "source": [
    "import numpy as np\n",
    "X_train_2d = np.stack(X_train)\n",
    "X_test_2d = np.stack(X_test)"
   ]
  },
  {
   "cell_type": "code",
   "execution_count": 290,
   "id": "46019f89",
   "metadata": {},
   "outputs": [
    {
     "data": {
      "text/plain": [
       "array([[-0.73865336,  0.06011667, -0.32663   , ..., -0.25181735,\n",
       "         0.00284433,  0.48382   ],\n",
       "       [-0.6662375 ,  0.44828498, -0.188895  , ...,  0.0629225 ,\n",
       "         0.56246823,  0.0973785 ],\n",
       "       [-0.73351   ,  0.41392   , -0.4425    , ..., -0.18777   ,\n",
       "        -0.076822  , -0.015507  ],\n",
       "       ...,\n",
       "       [-0.72246504,  0.06410499, -0.125885  , ...,  0.09367501,\n",
       "         0.142739  , -0.3148835 ],\n",
       "       [-0.60877   ,  0.30253   , -0.12351   , ..., -0.096473  ,\n",
       "        -0.46361   , -0.090981  ],\n",
       "       [-0.7739067 ,  0.17369668, -0.04805334, ..., -0.01860233,\n",
       "         0.30334333, -0.05477601]], shape=(240, 300), dtype=float32)"
      ]
     },
     "execution_count": 290,
     "metadata": {},
     "output_type": "execute_result"
    }
   ],
   "source": [
    "X_train_2d"
   ]
  },
  {
   "cell_type": "code",
   "execution_count": null,
   "id": "6e070eb9",
   "metadata": {},
   "outputs": [],
   "source": []
  },
  {
   "cell_type": "code",
   "execution_count": 291,
   "id": "31de904e",
   "metadata": {},
   "outputs": [
    {
     "name": "stdout",
     "output_type": "stream",
     "text": [
      "✅ Accuracy: 98.33333333333333\n",
      "\n",
      "📊 Classification Report:\n",
      "               precision    recall  f1-score   support\n",
      "\n",
      "           0       0.86      1.00      0.92         6\n",
      "           1       1.00      1.00      1.00         5\n",
      "           2       1.00      1.00      1.00         7\n",
      "           3       1.00      1.00      1.00         9\n",
      "           4       1.00      1.00      1.00         2\n",
      "           5       1.00      1.00      1.00         5\n",
      "           6       1.00      1.00      1.00         5\n",
      "           7       1.00      0.92      0.96        12\n",
      "           8       1.00      1.00      1.00         3\n",
      "           9       1.00      1.00      1.00         6\n",
      "\n",
      "    accuracy                           0.98        60\n",
      "   macro avg       0.99      0.99      0.99        60\n",
      "weighted avg       0.99      0.98      0.98        60\n",
      "\n",
      "✅ Stacking model and scaler saved as 'jarvis_intent_model_stack.pkl' and 'jarvis_scaler_stack.pkl'\n"
     ]
    }
   ],
   "source": [
    "import joblib\n",
    "from sklearn.preprocessing import StandardScaler\n",
    "from sklearn.linear_model import LogisticRegression\n",
    "from sklearn.ensemble import RandomForestClassifier, StackingClassifier\n",
    "from sklearn.svm import SVC\n",
    "from sklearn.metrics import accuracy_score, classification_report\n",
    "\n",
    "\n",
    "\n",
    "scaler = StandardScaler()\n",
    "X_train_scaled = scaler.fit_transform(X_train_2d)\n",
    "X_test_scaled = scaler.transform(X_test_2d)\n",
    "\n",
    "base_models = [\n",
    "    ('lr', LogisticRegression(max_iter=1000, solver='lbfgs', multi_class='auto')),\n",
    "    ('rf', RandomForestClassifier(n_estimators=200, random_state=42, n_jobs=-1)),\n",
    "    ('svm', SVC(kernel='linear', probability=True, random_state=42))\n",
    "]\n",
    "\n",
    "stack_clf = StackingClassifier(\n",
    "    estimators=base_models,\n",
    "    final_estimator=LogisticRegression(),\n",
    "    cv=5,\n",
    "    n_jobs=-1\n",
    ")\n",
    "\n",
    "stack_clf.fit(X_train_scaled, y_train)\n",
    "\n",
    "y_pred = stack_clf.predict(X_test_scaled)\n",
    "print(\"✅ Accuracy:\", accuracy_score(y_test, y_pred)*100)\n",
    "print(\"\\n📊 Classification Report:\\n\", classification_report(y_test, y_pred))\n",
    "\n",
    "joblib.dump(stack_clf, \"jarvis_intent_model_stack.pkl\")\n",
    "joblib.dump(scaler, \"jarvis_scaler_stack.pkl\")\n",
    "print(\"✅ Stacking model and scaler saved as 'jarvis_intent_model_stack.pkl' and 'jarvis_scaler_stack.pkl'\")\n"
   ]
  },
  {
   "cell_type": "code",
   "execution_count": 293,
   "id": "db631d83",
   "metadata": {},
   "outputs": [
    {
     "name": "stdout",
     "output_type": "stream",
     "text": [
      "Command: 'Open Spotify' -> Predicted Intent: open_spotify\n",
      "Command: 'What time is it?' -> Predicted Intent: get_time\n",
      "Command: 'Launch Notepad' -> Predicted Intent: open_notepad\n",
      "Command: 'Search Python tutorials on Google' -> Predicted Intent: search_google\n",
      "Command: 'Open my GitHub profile' -> Predicted Intent: open_github\n",
      "Command: 'Exit Jarvis' -> Predicted Intent: exit\n",
      "Command: 'Tell me the current time' -> Predicted Intent: get_time\n",
      "Command: 'Close the assistant' -> Predicted Intent: exit\n"
     ]
    }
   ],
   "source": [
    "import joblib\n",
    "import spacy\n",
    "from spacy.lang.en.stop_words import STOP_WORDS\n",
    "import numpy as np\n",
    "\n",
    "# 1️⃣ Load saved model and scaler\n",
    "stack_clf = joblib.load(\"jarvis_intent_model_stack.pkl\")\n",
    "scaler = joblib.load(\"jarvis_scaler_stack.pkl\")\n",
    "\n",
    "# 2️⃣ Load spaCy model\n",
    "nlp = spacy.load('en_core_web_md')\n",
    "\n",
    "# 3️⃣ Define stopwords\n",
    "stopwords = list(STOP_WORDS)\n",
    "\n",
    "# 4️⃣ Map intent numbers back to intent names\n",
    "intent_map = {\n",
    "    0: 'get_time',\n",
    "    1: 'search_google',\n",
    "    2: 'search_youtube',\n",
    "    3: 'open_notepad',\n",
    "    4: 'open_calculator',\n",
    "    5: 'open_whatsapp',\n",
    "    6: 'open_linkedin',\n",
    "    7: 'open_github',\n",
    "    8: 'open_spotify',\n",
    "    9: 'exit'\n",
    "}\n",
    "\n",
    "# 5️⃣ Function to preprocess and predict intent\n",
    "def predict_intent(command):\n",
    "    # Remove stopwords\n",
    "    command_clean = ' '.join([word for word in command.split() if word.lower() not in stopwords])\n",
    "    \n",
    "    # Convert to embedding\n",
    "    command_vector = nlp(command_clean).vector.reshape(1, -1)\n",
    "    \n",
    "    # Scale vector\n",
    "    command_scaled = scaler.transform(command_vector)\n",
    "    \n",
    "    # Predict intent number\n",
    "    intent_number = stack_clf.predict(command_scaled)[0]\n",
    "    \n",
    "    # Map number to intent name\n",
    "    return intent_map[intent_number]\n",
    "\n",
    "# 6️⃣ Test commands\n",
    "test_commands = [\n",
    "    \"Open Spotify\",\n",
    "    \"What time is it?\",\n",
    "    \"Launch Notepad\",\n",
    "    \"Search Python tutorials on Google\",\n",
    "    \"Open my GitHub profile\",\n",
    "    \"Exit Jarvis\",\n",
    "    \"Tell me the current time\",\n",
    "    \"Close the assistant\"\n",
    "]\n",
    "\n",
    "# 7️⃣ Run predictions\n",
    "for cmd in test_commands:\n",
    "    intent_name = predict_intent(cmd)\n",
    "    print(f\"Command: '{cmd}' -> Predicted Intent: {intent_name}\")\n"
   ]
  },
  {
   "cell_type": "code",
   "execution_count": null,
   "id": "bb7d31b2",
   "metadata": {},
   "outputs": [],
   "source": []
  }
 ],
 "metadata": {
  "kernelspec": {
   "display_name": ".venv",
   "language": "python",
   "name": "python3"
  },
  "language_info": {
   "codemirror_mode": {
    "name": "ipython",
    "version": 3
   },
   "file_extension": ".py",
   "mimetype": "text/x-python",
   "name": "python",
   "nbconvert_exporter": "python",
   "pygments_lexer": "ipython3",
   "version": "3.10.11"
  }
 },
 "nbformat": 4,
 "nbformat_minor": 5
}
